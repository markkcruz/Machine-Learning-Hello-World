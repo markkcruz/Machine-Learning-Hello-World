{
 "cells": [
  {
   "cell_type": "code",
   "execution_count": 33,
   "metadata": {},
   "outputs": [],
   "source": [
    "# Import the libraries and the data.\n",
    "\n",
    "import pandas as pd\n",
    "import numpy as np\n",
    "d = pd.read_csv('data.csv')\n",
    "df = pd.DataFrame(data=d)"
   ]
  },
  {
   "cell_type": "code",
   "execution_count": 48,
   "metadata": {},
   "outputs": [
    {
     "data": {
      "text/plain": [
       "id              int64\n",
       "'pclass'        int64\n",
       "'survived'      int64\n",
       "'name'         object\n",
       "'sex'          object\n",
       "'age'          object\n",
       "'sibsp'         int64\n",
       "'parch'         int64\n",
       "'ticket'       object\n",
       "'fare'         object\n",
       "'cabin'        object\n",
       "'embarked'     object\n",
       "'boat'         object\n",
       "'body'         object\n",
       "'home.dest'    object\n",
       "dtype: object"
      ]
     },
     "execution_count": 48,
     "metadata": {},
     "output_type": "execute_result"
    }
   ],
   "source": [
    "df.dtypes"
   ]
  },
  {
   "cell_type": "code",
   "execution_count": 47,
   "metadata": {},
   "outputs": [],
   "source": [
    "# Replace ? in the DF to NaN.\n",
    "df.replace('?', np.nan, inplace=True)"
   ]
  },
  {
   "cell_type": "code",
   "execution_count": 50,
   "metadata": {},
   "outputs": [
    {
     "ename": "KeyError",
     "evalue": "\"Only a column name can be used for the key in a dtype mappings argument. 'fare' not found in columns.\"",
     "output_type": "error",
     "traceback": [
      "\u001b[1;31m---------------------------------------------------------------------------\u001b[0m",
      "\u001b[1;31mKeyError\u001b[0m                                  Traceback (most recent call last)",
      "\u001b[1;32mc:\\dev_cs370\\Machine-Learning-Hello-World\\hello_ds\\hello.ipynb Cell 4'\u001b[0m in \u001b[0;36m<cell line: 1>\u001b[1;34m()\u001b[0m\n\u001b[1;32m----> <a href='vscode-notebook-cell:/c%3A/dev_cs370/Machine-Learning-Hello-World/hello_ds/hello.ipynb#ch0000006?line=0'>1</a>\u001b[0m df \u001b[39m=\u001b[39m df\u001b[39m.\u001b[39;49mastype({\u001b[39m'\u001b[39;49m\u001b[39mfare\u001b[39;49m\u001b[39m'\u001b[39;49m: np\u001b[39m.\u001b[39;49mfloat64})\n",
      "File \u001b[1;32m~\\anaconda3\\envs\\hello_world\\lib\\site-packages\\pandas\\core\\generic.py:5887\u001b[0m, in \u001b[0;36mNDFrame.astype\u001b[1;34m(self, dtype, copy, errors)\u001b[0m\n\u001b[0;32m   <a href='file:///c%3A/Users/markk/anaconda3/envs/hello_world/lib/site-packages/pandas/core/generic.py?line=5884'>5885</a>\u001b[0m \u001b[39mfor\u001b[39;00m col_name \u001b[39min\u001b[39;00m dtype\u001b[39m.\u001b[39mkeys():\n\u001b[0;32m   <a href='file:///c%3A/Users/markk/anaconda3/envs/hello_world/lib/site-packages/pandas/core/generic.py?line=5885'>5886</a>\u001b[0m     \u001b[39mif\u001b[39;00m col_name \u001b[39mnot\u001b[39;00m \u001b[39min\u001b[39;00m \u001b[39mself\u001b[39m:\n\u001b[1;32m-> <a href='file:///c%3A/Users/markk/anaconda3/envs/hello_world/lib/site-packages/pandas/core/generic.py?line=5886'>5887</a>\u001b[0m         \u001b[39mraise\u001b[39;00m \u001b[39mKeyError\u001b[39;00m(\n\u001b[0;32m   <a href='file:///c%3A/Users/markk/anaconda3/envs/hello_world/lib/site-packages/pandas/core/generic.py?line=5887'>5888</a>\u001b[0m             \u001b[39m\"\u001b[39m\u001b[39mOnly a column name can be used for the \u001b[39m\u001b[39m\"\u001b[39m\n\u001b[0;32m   <a href='file:///c%3A/Users/markk/anaconda3/envs/hello_world/lib/site-packages/pandas/core/generic.py?line=5888'>5889</a>\u001b[0m             \u001b[39m\"\u001b[39m\u001b[39mkey in a dtype mappings argument. \u001b[39m\u001b[39m\"\u001b[39m\n\u001b[0;32m   <a href='file:///c%3A/Users/markk/anaconda3/envs/hello_world/lib/site-packages/pandas/core/generic.py?line=5889'>5890</a>\u001b[0m             \u001b[39mf\u001b[39m\u001b[39m\"\u001b[39m\u001b[39m'\u001b[39m\u001b[39m{\u001b[39;00mcol_name\u001b[39m}\u001b[39;00m\u001b[39m'\u001b[39m\u001b[39m not found in columns.\u001b[39m\u001b[39m\"\u001b[39m\n\u001b[0;32m   <a href='file:///c%3A/Users/markk/anaconda3/envs/hello_world/lib/site-packages/pandas/core/generic.py?line=5890'>5891</a>\u001b[0m         )\n\u001b[0;32m   <a href='file:///c%3A/Users/markk/anaconda3/envs/hello_world/lib/site-packages/pandas/core/generic.py?line=5892'>5893</a>\u001b[0m \u001b[39m# GH#44417 cast to Series so we can use .iat below, which will be\u001b[39;00m\n\u001b[0;32m   <a href='file:///c%3A/Users/markk/anaconda3/envs/hello_world/lib/site-packages/pandas/core/generic.py?line=5893'>5894</a>\u001b[0m \u001b[39m#  robust in case we\u001b[39;00m\n\u001b[0;32m   <a href='file:///c%3A/Users/markk/anaconda3/envs/hello_world/lib/site-packages/pandas/core/generic.py?line=5894'>5895</a>\u001b[0m \u001b[39mfrom\u001b[39;00m \u001b[39mpandas\u001b[39;00m \u001b[39mimport\u001b[39;00m Series\n",
      "\u001b[1;31mKeyError\u001b[0m: \"Only a column name can be used for the key in a dtype mappings argument. 'fare' not found in columns.\""
     ]
    }
   ],
   "source": [
    "df = df.astype({'fare': np.float64})"
   ]
  }
 ],
 "metadata": {
  "interpreter": {
   "hash": "75f6de588e9f26de2b51d9f7090a3f13e567edc830570e0c5ff9f56a73dea3eb"
  },
  "kernelspec": {
   "display_name": "Python 3.9.7",
   "language": "python",
   "name": "python3"
  },
  "language_info": {
   "codemirror_mode": {
    "name": "ipython",
    "version": 3
   },
   "file_extension": ".py",
   "mimetype": "text/x-python",
   "name": "python",
   "nbconvert_exporter": "python",
   "pygments_lexer": "ipython3",
   "version": "3.9.12"
  },
  "orig_nbformat": 4
 },
 "nbformat": 4,
 "nbformat_minor": 2
}
